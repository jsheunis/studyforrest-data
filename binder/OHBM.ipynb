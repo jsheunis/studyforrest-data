{
 "cells": [
  {
   "cell_type": "markdown",
   "id": "b2b6a37a",
   "metadata": {},
   "source": [
    "# OHBM Brainhack TrainTrack: DataLad\n",
    "\n",
    "This code belongs to the 2020 OHBM Brainhack Traintrack session on DataLad. Copy-paste\n",
    "them into your terminal to follow along."
   ]
  },
  {
   "cell_type": "markdown",
   "id": "fa60088b",
   "metadata": {},
   "source": [
    "## Introduction & set-up\n",
    "\n",
    "DataLad is a command line tool and it has a Python API. Whenever I use it,\n",
    "I thus operate it in a terminal using the command line, or I use it in scripts\n",
    "such as shell scripts, Python scripts, Jupyter Notebooks, and so forth.\n",
    "In the command line, this always start with the general `datalad` command:"
   ]
  },
  {
   "cell_type": "code",
   "execution_count": null,
   "id": "1555cd2f",
   "metadata": {
    "hide-output": false
   },
   "outputs": [],
   "source": [
    "!datalad"
   ]
  },
  {
   "cell_type": "markdown",
   "id": "c50b1225",
   "metadata": {},
   "source": [
    "For example, I can type `datalad --help` to find out more about\n",
    "the available commands.\n",
    "\n",
    "To use its python interface, I import the `datalad.api as dl`:"
   ]
  },
  {
   "cell_type": "code",
   "execution_count": null,
   "id": "922e9d69",
   "metadata": {
    "hide-output": false
   },
   "outputs": [],
   "source": [
    "import datalad.api as dl"
   ]
  },
  {
   "cell_type": "markdown",
   "id": "c914a98a",
   "metadata": {},
   "source": [
    "You can find more details about how to install DataLad and its dependencies on\n",
    "all operating systems in the DataLad handbook, in the section install.\n",
    "It also details how to install DataLad on shared machines that\n",
    "you don’t have administrative privileges (sudo rights) on, such as high\n",
    "performance compute clusters.\n",
    "If you already have datalad installed,\n",
    "**make sure that it is a recent version, at least 0.12 or higher**:"
   ]
  },
  {
   "cell_type": "code",
   "execution_count": null,
   "id": "b1ccadff",
   "metadata": {
    "hide-output": false
   },
   "outputs": [],
   "source": [
    "!datalad --version"
   ]
  },
  {
   "cell_type": "markdown",
   "id": "a0a573ec",
   "metadata": {},
   "source": [
    "The very first thing to do if you haven’t done so yet is to configure your Git\n",
    "identity. Don’t worry if you have never used Git. The identity you are\n",
    "configuring consists of your name and email-adress so that the changes that you\n",
    "do to a project can be associated with you as an author of the changes:"
   ]
  },
  {
   "cell_type": "code",
   "execution_count": null,
   "id": "083be58a",
   "metadata": {
    "hide-output": false
   },
   "outputs": [],
   "source": [
    "#git config --global --add user.name \"Adina Wagner\"\n",
    "#git config --global --add user.email \"adina.wagner@t-online.de\""
   ]
  },
  {
   "cell_type": "markdown",
   "id": "f1efc35a",
   "metadata": {},
   "source": [
    "Creating a dataset is done with the `datalad create` command. This command only needs a name, and\n",
    "it will subsequently create a new directory under this name and instruct DataLad\n",
    "to manage it. Here, the command also has an additional option, the -c text2git\n",
    "option. With the -c option, datasets can be configured in a certain way at the\n",
    "time of creation. You can find out about the details of the text2git configuration\n",
    "in the datalad handbook in sections procedures, but in general this configuration is a very useful\n",
    "standard configuration for datasets:"
   ]
  },
  {
   "cell_type": "code",
   "execution_count": null,
   "id": "6e9bbcde",
   "metadata": {
    "hide-output": false
   },
   "outputs": [],
   "source": [
    "!datalad create -c text2git DataLad-101"
   ]
  },
  {
   "cell_type": "markdown",
   "id": "6bc90d72",
   "metadata": {},
   "source": [
    "Right after dataset creation, there is a new directory on the computer called\n",
    "`DataLad-101`:"
   ]
  },
  {
   "cell_type": "code",
   "execution_count": null,
   "id": "3e72a54d",
   "metadata": {
    "hide-output": false
   },
   "outputs": [],
   "source": [
    "cd DataLad-101"
   ]
  },
  {
   "cell_type": "code",
   "execution_count": null,
   "metadata": {},
   "outputs": [],
   "source": [
    "ls # ls does not show any output, because the dataset is empty"
   ]
  },
  {
   "cell_type": "markdown",
   "id": "4ce330e1",
   "metadata": {},
   "source": [
    "Datasets have the exciting features that they can record\n",
    "everything that is done inside of them, version control all content given to\n",
    "Datalad, regardless of the size this content, and have a complete history that\n",
    "you can interact with. This history is already present, although it is very\n",
    "short at this point in time. Let’s check it out nevertheless.\n",
    "\n",
    "This history exists thanks to Git. Therefore, you can access the history of a\n",
    "dataset with any tool that shows you git\n",
    "history. We’ll stay basic and just use gits build-in `git log` command, but you\n",
    "could also use tools with graphical user interfaces if you want to, for example\n",
    "tig:"
   ]
  },
  {
   "cell_type": "code",
   "execution_count": null,
   "id": "31a5beb8",
   "metadata": {
    "hide-output": false
   },
   "outputs": [],
   "source": [
    "!git log"
   ]
  },
  {
   "cell_type": "markdown",
   "id": "4d562ab2",
   "metadata": {},
   "source": [
    "## Version control workflows\n",
    "\n",
    "I’ll start by creating a books directory with the mkdir command, and then I will download two books\n",
    "from the internet. Here, I’m using the command line tool wget to do this in\n",
    "order to do everything from the commandline. But you can also just download the\n",
    "book manually and save it into the dataset with a file manager if you are more\n",
    "comfortable doing it this way. Remember, a dataset is just a directory on your\n",
    "computer:"
   ]
  },
  {
   "cell_type": "code",
   "execution_count": null,
   "id": "4192930b",
   "metadata": {
    "hide-output": false
   },
   "outputs": [],
   "source": [
    "mkdir books"
   ]
  },
  {
   "cell_type": "code",
   "execution_count": null,
   "metadata": {},
   "outputs": [],
   "source": [
    "cd books"
   ]
  },
  {
   "cell_type": "code",
   "execution_count": null,
   "metadata": {},
   "outputs": [],
   "source": [
    "!wget -nv https://sourceforge.net/projects/linuxcommand/files/TLCL/19.01/TLCL-19.01.pdf/download -O TLCL.pdf && wget -nv https://edisciplinas.usp.br/pluginfile.php/3252353/mod_resource/content/1/b_Swaroop_Byte_of_python.pdf -O byte-of-python.pdf"
   ]
  },
  {
   "cell_type": "code",
   "execution_count": null,
   "metadata": {},
   "outputs": [],
   "source": [
    "cd ../"
   ]
  },
  {
   "cell_type": "markdown",
   "id": "e9c21fae",
   "metadata": {},
   "source": [
    "The tree command can visualize the directory hierarchy:"
   ]
  },
  {
   "cell_type": "code",
   "execution_count": null,
   "id": "5bd757a6",
   "metadata": {
    "hide-output": false
   },
   "outputs": [],
   "source": [
    "!tree"
   ]
  },
  {
   "cell_type": "markdown",
   "id": "3c93e68a",
   "metadata": {},
   "source": [
    "Use the datalad status command to find out what happened in the dataset. This\n",
    "command is very helpful and reports on the current state of your dataset. Any\n",
    "content that is new or changed will be highlighted. If nothing has changed, a\n",
    "datalad status will report what is called a clean dataset state. And in general\n",
    "it is very useful to always have a clean dataset state:"
   ]
  },
  {
   "cell_type": "code",
   "execution_count": null,
   "id": "451c7e96",
   "metadata": {
    "hide-output": false
   },
   "outputs": [],
   "source": [
    "!datalad status"
   ]
  },
  {
   "cell_type": "markdown",
   "id": "af89f479",
   "metadata": {},
   "source": [
    "Any content that\n",
    "we want DataLad to manage needs to be explicitly given to DataLad, it is not\n",
    "enough to simply put it inside of the dataset. To give new or changed content to\n",
    "DataLad, we need to save it using datalad save. This is the first time that we\n",
    "need to specify a commit message, and this is done with the -m option of the\n",
    "command:"
   ]
  },
  {
   "cell_type": "code",
   "execution_count": null,
   "id": "09d7773f",
   "metadata": {
    "hide-output": false
   },
   "outputs": [],
   "source": [
    "!datalad save -m \"add books on Python and Unix to read later\""
   ]
  },
  {
   "cell_type": "markdown",
   "id": "f0908cf3",
   "metadata": {},
   "source": [
    "With git log -n 1 you can take a look at the most recent commit in the history:"
   ]
  },
  {
   "cell_type": "code",
   "execution_count": null,
   "id": "f751b331",
   "metadata": {
    "hide-output": false
   },
   "outputs": [],
   "source": [
    "!git log -p -n 1"
   ]
  },
  {
   "cell_type": "markdown",
   "id": "e8de9179",
   "metadata": {},
   "source": [
    "“datalad save” saved all untracked contents to the\n",
    "dataset. Sometimes this is inconvinient. One great advantage of a datasets\n",
    "history is that it allows you to revert changes you are not happy with, but this\n",
    "is only easily possible in the units of single commits. So if one save commits\n",
    "several unrelated files or changes, they are hard to disentangle if you ever\n",
    "want to revert some of those changes. But if you for example provide a path to\n",
    "the file you want to save you can specify more precisiley what will be saved\n",
    "together:"
   ]
  },
  {
   "cell_type": "code",
   "execution_count": null,
   "id": "75449304",
   "metadata": {
    "hide-output": false
   },
   "outputs": [],
   "source": [
    "cd books"
   ]
  },
  {
   "cell_type": "code",
   "execution_count": null,
   "metadata": {},
   "outputs": [],
   "source": [
    "!wget -nv https://github.com/progit/progit2/releases/download/2.1.154/progit.pdf"
   ]
  },
  {
   "cell_type": "code",
   "execution_count": null,
   "metadata": {},
   "outputs": [],
   "source": [
    "cd ../"
   ]
  },
  {
   "cell_type": "code",
   "execution_count": null,
   "metadata": {},
   "outputs": [],
   "source": [
    "!datalad status"
   ]
  },
  {
   "cell_type": "markdown",
   "id": "d2e9e196",
   "metadata": {},
   "source": [
    "Attach a path to the next `datalad save` command:"
   ]
  },
  {
   "cell_type": "code",
   "execution_count": null,
   "id": "f0935ab3",
   "metadata": {
    "hide-output": false
   },
   "outputs": [],
   "source": [
    "!datalad save -m \"add reference book about git\" books/progit.pdf"
   ]
  },
  {
   "cell_type": "markdown",
   "id": "3fd7a702",
   "metadata": {},
   "source": [
    "lets take a look at files that are\n",
    "frequently modified such as code or text. To try this, I will create a file\n",
    "and modify it. I do this with a [here doc](https://en.wikipedia.org/wiki/Here_document),\n",
    "but you can also write the note with an editor of your choice. If you execute this\n",
    "code snippet, make sure you copy-paste everything, starting with `cat` and ending\n",
    "with the second `EOT`:"
   ]
  },
  {
   "cell_type": "code",
   "execution_count": null,
   "id": "c125e044",
   "metadata": {
    "hide-output": false
   },
   "outputs": [],
   "source": [
    "%%bash\n",
    "cat << EOT > notes.txt\n",
    "One can create a new dataset with '\"'\"'datalad create PATH'\"'\"'.\n",
    "The dataset is created empty\n",
    "\n",
    "\n",
    "EOT"
   ]
  },
  {
   "cell_type": "markdown",
   "id": "958aa31a",
   "metadata": {},
   "source": [
    "Datalad status will, as expected, say that there is a new untracked file in the\n",
    "dataset:"
   ]
  },
  {
   "cell_type": "code",
   "execution_count": null,
   "id": "f71e5a54",
   "metadata": {
    "hide-output": false
   },
   "outputs": [],
   "source": [
    "!datalad status"
   ]
  },
  {
   "cell_type": "markdown",
   "id": "7d638da8",
   "metadata": {},
   "source": [
    "We can save it with datalad save command and a helpful commit message. As\n",
    "its the only change in the dataset, there is no need to provide a path:"
   ]
  },
  {
   "cell_type": "code",
   "execution_count": null,
   "id": "373612cb",
   "metadata": {
    "hide-output": false
   },
   "outputs": [],
   "source": [
    "!datalad save -m \"Add notes on datalad create\""
   ]
  },
  {
   "cell_type": "markdown",
   "id": "692e67ef",
   "metadata": {},
   "source": [
    "Let’s now add another note to modifiy this file:"
   ]
  },
  {
   "cell_type": "code",
   "execution_count": null,
   "id": "f983657b",
   "metadata": {
    "hide-output": false
   },
   "outputs": [],
   "source": [
    "%%bash\n",
    "cat << EOT >> notes.txt\n",
    "The command \"datalad save [-m] PATH\" saves the file\n",
    "(modifications) to history. Note to self:\n",
    "Always use informative, concise commit messages.\n",
    "\n",
    "EOT"
   ]
  },
  {
   "cell_type": "markdown",
   "id": "8832c4c4",
   "metadata": {},
   "source": [
    "A datalad status reports the file not to be untracked, but because it\n",
    "differs now from the state it was saved under it is reported to be modified:"
   ]
  },
  {
   "cell_type": "code",
   "execution_count": null,
   "id": "7d79cdd6",
   "metadata": {
    "hide-output": false
   },
   "outputs": [],
   "source": [
    "!datalad status"
   ]
  },
  {
   "cell_type": "markdown",
   "id": "c07c8215",
   "metadata": {},
   "source": [
    "Let’s save this:"
   ]
  },
  {
   "cell_type": "code",
   "execution_count": null,
   "id": "e4cbe41c",
   "metadata": {
    "hide-output": false
   },
   "outputs": [],
   "source": [
    "!datalad save -m \"add note on datalad save\""
   ]
  },
  {
   "cell_type": "markdown",
   "id": "b6a5faf7",
   "metadata": {},
   "source": [
    "If you take a look at the history of this file with git log, the history\n",
    "neatly summarizes all of the changes that have been done:"
   ]
  },
  {
   "cell_type": "code",
   "execution_count": null,
   "id": "c41ac77b",
   "metadata": {
    "hide-output": false
   },
   "outputs": [],
   "source": [
    "!git log -p -n 2"
   ]
  },
  {
   "cell_type": "markdown",
   "id": "f38b401c",
   "metadata": {},
   "source": [
    "## Dataset consumption and nesting\n",
    "\n",
    "First, create a new subdirectory to be organized:"
   ]
  },
  {
   "cell_type": "code",
   "execution_count": null,
   "id": "9f032b33",
   "metadata": {
    "hide-output": false
   },
   "outputs": [],
   "source": [
    "mkdir recordings"
   ]
  },
  {
   "cell_type": "markdown",
   "id": "c77aaca0",
   "metadata": {},
   "source": [
    "Afterwards, I’ll install the dataset I am interested in, either from a path or\n",
    "a URL. The dataset I want to install lives on GitHub, so in order to get it, I\n",
    "will privide its URL to the datalad clone command. I’m also attaching a path to\n",
    "where I want to have it installed to this call. Importantly I am installing this\n",
    "dataset as a subdataset of DataLad-101, in other words I will nest the two\n",
    "datasets inside of each other. This is done with the –dataset flag:"
   ]
  },
  {
   "cell_type": "code",
   "execution_count": null,
   "id": "322fe26b",
   "metadata": {
    "hide-output": false
   },
   "outputs": [],
   "source": [
    "!datalad clone --dataset . https://github.com/datalad-datasets/longnow-podcasts.git recordings/longnow"
   ]
  },
  {
   "cell_type": "markdown",
   "id": "408813bc",
   "metadata": {},
   "source": [
    "There are new directories in my DataLad/101 dataset, and in these new directories, there are\n",
    "hundreds of mp3 files:"
   ]
  },
  {
   "cell_type": "code",
   "execution_count": null,
   "id": "bbf2e6e6",
   "metadata": {
    "hide-output": false
   },
   "outputs": [],
   "source": [
    "!tree -d # we limit the output to directories"
   ]
  },
  {
   "cell_type": "code",
   "execution_count": null,
   "metadata": {},
   "outputs": [],
   "source": [
    "cd recordings/longnow/Long_Now__Seminars_About_Long_term_Thinking"
   ]
  },
  {
   "cell_type": "code",
   "execution_count": null,
   "metadata": {},
   "outputs": [],
   "source": [
    "ls"
   ]
  },
  {
   "cell_type": "markdown",
   "id": "1f193834",
   "metadata": {},
   "source": [
    "here is the crucial and incredibly\n",
    "handy feature of DataLad datasets: At this point, after cloning, the dataset\n",
    "has small files, for example the README, but larger files in it don’t have any\n",
    "file content yet. It only retrieved what we in a simplified way call file\n",
    "availability metadata and shows that as the file hierarchy in the dataset. So\n",
    "while I can read the file names and find out what the dataset contains, I don’t\n",
    "have the file contents yet. If I would try to play one of the recordings with the\n",
    "vlc player, this would fail:"
   ]
  },
  {
   "cell_type": "code",
   "execution_count": null,
   "id": "b9cdc051",
   "metadata": {
    "hide-output": false
   },
   "outputs": [],
   "source": [
    "#vlc Long_Now__Seminars_About_Long_term_Thinking/2003_11_15__Brian_Eno__The_Long_Now.mp3\n",
    "from IPython.display import *\n",
    "\n",
    "Audio(filename=\"Long_Now__Seminars_About_Long_term_Thinking/2003_11_15__Brian_Eno__The_Long_Now.mp3\", autoplay=True)"
   ]
  },
  {
   "cell_type": "markdown",
   "id": "5b29d238",
   "metadata": {},
   "source": [
    "his is a curious behavior, but there are many advantages to this. One is speed, and\n",
    "another one is small diskusage. Here is the total size of this dataset:"
   ]
  },
  {
   "cell_type": "code",
   "execution_count": null,
   "id": "e1574280",
   "metadata": {
    "hide-output": false
   },
   "outputs": [],
   "source": [
    "cd ../"
   ]
  },
  {
   "cell_type": "code",
   "execution_count": null,
   "metadata": {},
   "outputs": [],
   "source": [
    "!du -sh  # Unix command to show size of contents"
   ]
  },
  {
   "cell_type": "markdown",
   "id": "74d0d2e9",
   "metadata": {},
   "source": [
    "Its tiny! But we can also find out how large the dataset would be if we had all\n",
    "of its contents with datalad status and the –annex flag. In total, there are\n",
    "more than 15GB of podcasts you have now access to:"
   ]
  },
  {
   "cell_type": "code",
   "execution_count": null,
   "id": "028ef299",
   "metadata": {
    "hide-output": false
   },
   "outputs": [],
   "source": [
    "!datalad status --annex"
   ]
  },
  {
   "cell_type": "markdown",
   "id": "c0a1f56a",
   "metadata": {},
   "source": [
    "You can get individual or groups of files,\n",
    "directories, or datasets with the datalad get command. This command retrieves\n",
    "the content for you:"
   ]
  },
  {
   "cell_type": "code",
   "execution_count": null,
   "id": "a3f70839",
   "metadata": {
    "hide-output": false
   },
   "outputs": [],
   "source": [
    "!datalad get Long_Now__Seminars_About_Long_term_Thinking/2003_11_15__Brian_Eno__The_Long_Now.mp3"
   ]
  },
  {
   "cell_type": "markdown",
   "id": "a169cac3",
   "metadata": {},
   "source": [
    "Content that is already present is not re-retrieved:"
   ]
  },
  {
   "cell_type": "code",
   "execution_count": null,
   "id": "fd8f04af",
   "metadata": {
    "hide-output": false
   },
   "outputs": [],
   "source": [
    "!datalad get Long_Now__Seminars_About_Long_term_Thinking/2003_11_15__Brian_Eno__The_Long_Now.mp3  \\Long_Now__Seminars_About_Long_term_Thinking/2003_12_13__Peter_Schwartz__The_Art_Of_The_Really_Long_View.mp3  \\Long_Now__Seminars_About_Long_term_Thinking/2004_01_10__George_Dyson__There_s_Plenty_of_Room_at_the_Top__Long_term_Thinking_About_Large_scale_Computing.mp3"
   ]
  },
  {
   "cell_type": "markdown",
   "id": "41b68fbd",
   "metadata": {},
   "source": [
    "If you don’t need the data locally anymore you can\n",
    "drop the content from your dataset to save diskspace:"
   ]
  },
  {
   "cell_type": "code",
   "execution_count": null,
   "id": "5c024f37",
   "metadata": {
    "hide-output": false
   },
   "outputs": [],
   "source": [
    "!datalad drop Long_Now__Seminars_About_Long_term_Thinking/2003_12_13__Peter_Schwartz__The_Art_Of_The_Really_Long_View.mp3"
   ]
  },
  {
   "cell_type": "markdown",
   "id": "f64985e9",
   "metadata": {},
   "source": [
    "Afterwards, as long as DataLad knows where a file came from, its content can be retrieved\n",
    "again:"
   ]
  },
  {
   "cell_type": "code",
   "execution_count": null,
   "id": "da39a25d",
   "metadata": {
    "hide-output": false
   },
   "outputs": [],
   "source": [
    "!datalad get Long_Now__Seminars_About_Long_term_Thinking/2003_12_13__Peter_Schwartz__The_Art_Of_The_Really_Long_View.mp3"
   ]
  },
  {
   "cell_type": "markdown",
   "id": "d250ed74",
   "metadata": {},
   "source": [
    "## Dataset nesting\n",
    "\n",
    "Let’s take a look into the history of the longnow subdataset:\n",
    "We can see that it has preserved its history completely. This means that the data we\n",
    "retrieved preserved all of its provenance:"
   ]
  },
  {
   "cell_type": "code",
   "execution_count": null,
   "id": "1ae53287",
   "metadata": {
    "hide-output": false
   },
   "outputs": [],
   "source": [
    "!git log --reverse"
   ]
  },
  {
   "cell_type": "markdown",
   "id": "0af66b3e",
   "metadata": {},
   "source": [
    "ow does this look in the top-level dataset? If we query DataLad-101s history,\n",
    "there will be no commit about mp3 files or any of the commits we have seen in\n",
    "the subdataset. Instead, we can see that the superdataset recorded\n",
    "the recordings|longnow  dataset as a subdataset. This means, that it recorded where this dataset\n",
    "came from and what version it is in:"
   ]
  },
  {
   "cell_type": "code",
   "execution_count": null,
   "id": "181385f4",
   "metadata": {
    "hide-output": false
   },
   "outputs": [],
   "source": [
    "cd ../../"
   ]
  },
  {
   "cell_type": "code",
   "execution_count": null,
   "metadata": {},
   "outputs": [],
   "source": [
    "!git log -p -n 1"
   ]
  },
  {
   "cell_type": "markdown",
   "id": "1093a91d",
   "metadata": {},
   "source": [
    "The subproject commit registered the most recent commit of the subdataset, and thus\n",
    "the subdataset version:"
   ]
  },
  {
   "cell_type": "code",
   "execution_count": null,
   "id": "357f4e7a",
   "metadata": {
    "hide-output": false
   },
   "outputs": [],
   "source": [
    "cd recordings/longnow"
   ]
  },
  {
   "cell_type": "code",
   "execution_count": null,
   "metadata": {},
   "outputs": [],
   "source": [
    "!git log --oneline"
   ]
  },
  {
   "cell_type": "code",
   "execution_count": null,
   "metadata": {},
   "outputs": [],
   "source": [
    "cd ../../"
   ]
  },
  {
   "cell_type": "markdown",
   "id": "501089a2",
   "metadata": {},
   "source": [
    "## More on data versioning, nesting, and a glimpse into reproducible paper\n",
    "\n",
    "We’ll clone a repository for a paper that shares manuscript, code, and data:"
   ]
  },
  {
   "cell_type": "code",
   "execution_count": null,
   "id": "aadd264d",
   "metadata": {
    "hide-output": false
   },
   "outputs": [],
   "source": [
    "cd ../"
   ]
  },
  {
   "cell_type": "code",
   "execution_count": null,
   "metadata": {},
   "outputs": [],
   "source": [
    "!datalad clone git@github.com:psychoinformatics-de/paper-remodnav.git"
   ]
  },
  {
   "cell_type": "markdown",
   "id": "9ec64db7",
   "metadata": {},
   "source": [
    "The top-level dataset has many subdatasets. One of it, remodnav, is a dataset that contains the sourcecode for a Python\n",
    "package called remodnav used in eyetracking analyses:"
   ]
  },
  {
   "cell_type": "code",
   "execution_count": null,
   "id": "216b7840",
   "metadata": {
    "hide-output": false
   },
   "outputs": [],
   "source": [
    "cd paper-remodnav"
   ]
  },
  {
   "cell_type": "code",
   "execution_count": null,
   "metadata": {},
   "outputs": [],
   "source": [
    "!datalad subdatasets"
   ]
  },
  {
   "cell_type": "markdown",
   "id": "1d542965",
   "metadata": {},
   "source": [
    "After cloning a dataset, its subdatasets will be known, but just as content is\n",
    "not yet retrieved for files in datasets, subdatasets of datasets are not yet\n",
    "installed. If I navigate into an uninstalled subdataset it will appear like an\n",
    "empty directory:"
   ]
  },
  {
   "cell_type": "code",
   "execution_count": null,
   "id": "5a2556f8",
   "metadata": {
    "hide-output": false
   },
   "outputs": [],
   "source": [
    "cd remodnav"
   ]
  },
  {
   "cell_type": "code",
   "execution_count": null,
   "metadata": {},
   "outputs": [],
   "source": [
    "ls"
   ]
  },
  {
   "cell_type": "markdown",
   "id": "63dbcfc2",
   "metadata": {},
   "source": [
    "In order to install a subdataset, I use datalad get:"
   ]
  },
  {
   "cell_type": "code",
   "execution_count": null,
   "id": "2dbf40cc",
   "metadata": {
    "hide-output": false
   },
   "outputs": [],
   "source": [
    "!datalad get --recursive --recursion-limit 2 -n ."
   ]
  },
  {
   "cell_type": "code",
   "execution_count": null,
   "metadata": {},
   "outputs": [],
   "source": [
    "ls"
   ]
  },
  {
   "cell_type": "markdown",
   "id": "55f456bb",
   "metadata": {},
   "source": [
    "This command doesn’t only retrieve file contents, but it also installs\n",
    "subdatasets. So if you want to be really lazy, just run datalad get –recursive\n",
    "-n in the root of a dataset to install all subdatasets that are available.\n",
    "The -n option prevents get from downloading any data, so that only subdataset\n",
    "are installed, but no data is downloaded. Here, the depth of recursion is limited.\n",
    "For one, it would take a while to install all subdatasets, but the very raw eye tracking\n",
    "dataset contains subject IDs that should not be shared, and therefore, this subdataset\n",
    "is not accessible - if you try to install all subdatasets, the source eyetracking\n",
    "data will throw an error, because it is not made publicly available.\n",
    "\n",
    "Afterwards, you can see that the remodnav subdataset also contains further\n",
    "subdatasets. In this case, these subdatasets contain data that is used for\n",
    "testing and validating software performance:"
   ]
  },
  {
   "cell_type": "code",
   "execution_count": null,
   "id": "265f0fe5",
   "metadata": {
    "hide-output": false
   },
   "outputs": [],
   "source": [
    "!datalad subdatasets"
   ]
  },
  {
   "cell_type": "markdown",
   "id": "bf94d705",
   "metadata": {},
   "source": [
    "One of the validation\n",
    "data subdatasets came form another lab that shared their data. After I was\n",
    "almost finished with my paper, I found another paper that reported a mistake in\n",
    "this data. The mistake was still present in the data I was using, though. So by\n",
    "inspecting the history of this dataset you can see that at one point, I\n",
    "contributed a fix that changed the data:"
   ]
  },
  {
   "cell_type": "code",
   "execution_count": null,
   "id": "ef25e44b",
   "metadata": {
    "hide-output": false
   },
   "outputs": [],
   "source": [
    "cd remodnav/tests/data/anderson_etal"
   ]
  },
  {
   "cell_type": "code",
   "execution_count": null,
   "metadata": {},
   "outputs": [],
   "source": [
    "!git log -n 3"
   ]
  },
  {
   "cell_type": "markdown",
   "id": "d4b91db5",
   "metadata": {},
   "source": [
    "But because I can link subdatasets in precise version I can\n",
    "consciously decide and openly record which version of the data I am using or\n",
    "even test how much my results change by resetting the subdataset to an ealier\n",
    "state or updating the dataset to a more recent version."
   ]
  },
  {
   "cell_type": "markdown",
   "id": "27ee5564",
   "metadata": {},
   "source": [
    "## Reproducible analyses\n",
    "\n",
    "Not only can I version control data and consume data with datalad, I\n",
    "can also create datasets with data analyses in a way that my future self\n",
    "and others can easily and automatically recompute what was done:"
   ]
  },
  {
   "cell_type": "code",
   "execution_count": 1,
   "id": "390266e8",
   "metadata": {
    "hide-output": false
   },
   "outputs": [
    {
     "output_type": "stream",
     "name": "stdout",
     "text": [
      "/Users/jheunis\n"
     ]
    }
   ],
   "source": [
    "cd ../../../../"
   ]
  },
  {
   "cell_type": "markdown",
   "id": "0aa32a92",
   "metadata": {},
   "source": [
    "First, create a new dataset, in this case with the yoda configuration:"
   ]
  },
  {
   "cell_type": "code",
   "execution_count": null,
   "id": "2cf39b31",
   "metadata": {
    "hide-output": false
   },
   "outputs": [],
   "source": [
    "!datalad create -c yoda myanalysis"
   ]
  },
  {
   "cell_type": "markdown",
   "id": "53ef613e",
   "metadata": {},
   "source": [
    "This sets up a helpful structure for my dataset with a code directory and some README files,\n",
    "and applies helpful configurations:"
   ]
  },
  {
   "cell_type": "code",
   "execution_count": null,
   "id": "457d0623",
   "metadata": {
    "hide-output": false
   },
   "outputs": [],
   "source": [
    "cd myanalysis"
   ]
  },
  {
   "cell_type": "code",
   "execution_count": null,
   "metadata": {},
   "outputs": [],
   "source": [
    "!tree"
   ]
  },
  {
   "cell_type": "markdown",
   "id": "cfc7ed33",
   "metadata": {},
   "source": [
    "Read up more about the YODA principles and the yoda configuration in the section\n",
    "yoda.\n",
    "\n",
    "Next, install input data as a subdataset. For this, I created a\n",
    "dataset with the Iris data and published it on Github. Here, we’re installing it\n",
    "into a directory `input`:"
   ]
  },
  {
   "cell_type": "code",
   "execution_count": null,
   "id": "cd5a1bbd",
   "metadata": {
    "hide-output": false
   },
   "outputs": [],
   "source": [
    "!datalad clone -d . git@github.com:datalad-handbook/iris_data.git input/"
   ]
  },
  {
   "cell_type": "markdown",
   "id": "665c5afc",
   "metadata": {},
   "source": [
    "The last thing is code to run on the data and produce results. For this, here is a\n",
    "k-means classification analysis script written in Python. You can find this analysis\n",
    "in more detail in the section yoda_project:"
   ]
  },
  {
   "cell_type": "code",
   "execution_count": null,
   "id": "27f66f19",
   "metadata": {
    "hide-output": false
   },
   "outputs": [],
   "source": [
    "%%bash\n",
    "cat << EOT > code/script.py\n",
    "\n",
    "import pandas as pd\n",
    "import seaborn as sns\n",
    "import datalad.api as dl\n",
    "from sklearn import model_selection\n",
    "from sklearn.neighbors import KNeighborsClassifier\n",
    "from sklearn.metrics import classification_report\n",
    "\n",
    "data = \"input/iris.csv\"\n",
    "\n",
    "# make sure that the data are obtained (get will also install linked sub-ds!):\n",
    "dl.get(data)\n",
    "\n",
    "# prepare the data as a pandas dataframe\n",
    "df = pd.read_csv(data)\n",
    "attributes = [\"sepal_length\", \"sepal_width\", \"petal_length\",\"petal_width\", \"class\"]\n",
    "df.columns = attributes\n",
    "\n",
    "# create a pairplot to plot pairwise relationships in the dataset\n",
    "plot = sns.pairplot(df, hue='\"'\"'class'\"'\"', palette='\"'\"'muted'\"'\"')\n",
    "plot.savefig('\"'\"'pairwise_relationships.png'\"'\"')\n",
    "\n",
    "# perform a K-nearest-neighbours classification with scikit-learn\n",
    "# Step 1: split data in test and training dataset (20:80)\n",
    "array = df.values\n",
    "X = array[:,0:4]\n",
    "Y = array[:,4]\n",
    "test_size = 0.20\n",
    "seed = 7\n",
    "X_train, X_test, Y_train, Y_test = model_selection.train_test_split(X, Y,\n",
    "                                                                    test_size=test_size,\n",
    "                                                                    random_state=seed)\n",
    "# Step 2: Fit the model and make predictions on the test dataset\n",
    "knn = KNeighborsClassifier()\n",
    "knn.fit(X_train, Y_train)\n",
    "predictions = knn.predict(X_test)\n",
    "\n",
    "# Step 3: Save the classification report\n",
    "report = classification_report(Y_test, predictions, output_dict=True)\n",
    "df_report = pd.DataFrame(report).transpose().to_csv('\"'\"'prediction_report.csv'\"'\"')\n",
    "\n",
    "EOT"
   ]
  },
  {
   "cell_type": "markdown",
   "id": "4e0a40fe",
   "metadata": {},
   "source": [
    "So far the script is untracked:"
   ]
  },
  {
   "cell_type": "code",
   "execution_count": null,
   "id": "b44dccea",
   "metadata": {
    "hide-output": false
   },
   "outputs": [],
   "source": [
    "!datalad status"
   ]
  },
  {
   "cell_type": "markdown",
   "id": "b918b125",
   "metadata": {},
   "source": [
    "Let’s save it with a datalad save command and also attach an identifier with the\n",
    "`--version-tag` flag:"
   ]
  },
  {
   "cell_type": "code",
   "execution_count": null,
   "id": "616db543",
   "metadata": {
    "hide-output": false
   },
   "outputs": [],
   "source": [
    "!datalad save -m \"add script for kNN classification and plotting\" --version-tag ready4analysis code/script.py"
   ]
  },
  {
   "cell_type": "markdown",
   "id": "548dd659",
   "metadata": {},
   "source": [
    "The challenge DataLad helps me to accomplish is running this script in a way\n",
    "that links the script to the results it produces and the data it was computed\n",
    "from. I can do this with the datalad run command. In principle, it is simple.\n",
    "You start with a clean dataset:"
   ]
  },
  {
   "cell_type": "code",
   "execution_count": null,
   "id": "d92cc864",
   "metadata": {
    "hide-output": false
   },
   "outputs": [],
   "source": [
    "!datalad status"
   ]
  },
  {
   "cell_type": "markdown",
   "id": "fe7706c8",
   "metadata": {},
   "source": [
    "Then, give the command you would execute to datalad run, in this case `python code/script.py`.\n",
    "Datalad will take the command, run it, and save all of the changes in the\n",
    "dataset that this leads this to under the commit message specified with\n",
    "the -m option. Thus, it associates the script with the results.\n",
    "But it can be even more helpful. Here, we also specify the input data the command\n",
    "needs and datalad will get the data beforehand. And we also specify the output\n",
    "of the command. To understand fully what this does, please read chapters\n",
    "chapter_run and chapter_gitannex, but specifying the outputs will allow me later to rerun\n",
    "the command and let me update outdated results:"
   ]
  },
  {
   "cell_type": "code",
   "execution_count": null,
   "id": "8fc7dcdc",
   "metadata": {
    "hide-output": false
   },
   "outputs": [],
   "source": [
    "!datalad run -m \"analyze iris data with classification analysis\" \\\n",
    "--input \"input/iris.csv\" \\\n",
    "--output \"prediction_report.csv\" \\\n",
    "--output \"pairwise_relationships.png\" \\\n",
    "\"python3 code/script.py\""
   ]
  },
  {
   "cell_type": "markdown",
   "id": "53455b4d",
   "metadata": {},
   "source": [
    "Datalad creates a commit in my history. This commit has my commit\n",
    "message as a human readable summary of what was done, it contains the produced\n",
    "output, and it has a machine readable record that contains information on the\n",
    "input data, the results, and the command that was run to create this result:"
   ]
  },
  {
   "cell_type": "code",
   "execution_count": null,
   "id": "eba6e287",
   "metadata": {
    "hide-output": false
   },
   "outputs": [],
   "source": [
    "!git log -n 1"
   ]
  },
  {
   "cell_type": "markdown",
   "id": "62079bbd",
   "metadata": {},
   "source": [
    "This machine readable record is particularly helpful, because I can now instruct\n",
    "datalad to rerun this command so that I don’t have to memorize what I had done\n",
    "and people I share my dataset with don’t need to ask me how this result was\n",
    "produced, by can simply let DataLad tell them.\n",
    "\n",
    "This is done with the `datalad rerun` command. For this demonstration, I have\n",
    "prepared this analysis dataset and published it to GitHub at\n",
    "[github.com/adswa/my_analysis](https://github.com/adswa/myanalysis):"
   ]
  },
  {
   "cell_type": "code",
   "execution_count": null,
   "id": "115ae0d0",
   "metadata": {
    "hide-output": false
   },
   "outputs": [],
   "source": [
    "cd ../"
   ]
  },
  {
   "cell_type": "code",
   "execution_count": null,
   "metadata": {},
   "outputs": [],
   "source": [
    "!git clone git@github.com:adswa/myanalysis.git analysis_clone"
   ]
  },
  {
   "cell_type": "markdown",
   "id": "1b04f623",
   "metadata": {},
   "source": [
    "I can clone this repository and give for example the checksum of the run command\n",
    "to the `datalad rerun` command. DataLad will read the machine readable record of\n",
    "what was done and recompute the exact same thing:"
   ]
  },
  {
   "cell_type": "code",
   "execution_count": null,
   "id": "bd9353bb",
   "metadata": {
    "hide-output": false
   },
   "outputs": [],
   "source": [
    "!datalad rerun 71cb8c5"
   ]
  },
  {
   "cell_type": "markdown",
   "id": "2668c19c",
   "metadata": {},
   "source": [
    "This allows others to very easily rerun my computations, but it also spares me\n",
    "the need to remember how I executed my script, and I can ask results where they\n",
    "came from:"
   ]
  },
  {
   "cell_type": "code",
   "execution_count": null,
   "id": "b932ea6f",
   "metadata": {
    "hide-output": false
   },
   "outputs": [],
   "source": [
    "!git log pairwise_relationships.png"
   ]
  },
  {
   "cell_type": "markdown",
   "id": "a33cf898",
   "metadata": {},
   "source": [
    "## Computational reproducibility\n",
    "\n",
    "If you don’t have the required python packages available, running the script and\n",
    "computing the results will fail. In order to be computationally reproducible\n",
    "I need to attach the software that is necessary for a computation to this\n",
    "execution record:"
   ]
  },
  {
   "cell_type": "code",
   "execution_count": null,
   "id": "4295890f",
   "metadata": {
    "hide-output": false
   },
   "outputs": [],
   "source": [
    "cd ../myanalysis"
   ]
  },
  {
   "cell_type": "markdown",
   "id": "cee3b4f2",
   "metadata": {},
   "source": [
    "And the way I can do this is with a datalad extension called datalad containers.\n",
    "You can install this extension with pip by running\n",
    "`pip install datalad-containers`.\n",
    "This extension allow to attach software containers such as singularity\n",
    "images to my dataset and execute my commands inside of these containers. Thus, I\n",
    "can share share data, code, code execution, and software.\n",
    "\n",
    "Here is how this works: First, I attach a software container to my dataset using\n",
    "`datalad containers-add` with a name of the container (here I call it `software`)\n",
    "and a url or path where to find this container, here it is singularity hub. This\n",
    "records the software in the dataset:"
   ]
  },
  {
   "cell_type": "code",
   "execution_count": null,
   "id": "54bf865f",
   "metadata": {
    "hide-output": false
   },
   "outputs": [],
   "source": [
    "!datalad containers-add software --url shub://adswa/resources:2"
   ]
  },
  {
   "cell_type": "markdown",
   "id": "2fa139d1",
   "metadata": {},
   "source": [
    "Note: You need to have [singularity](https://sylabs.io/guides/3.5/user-guide/)\n",
    "installed to run this!\n",
    "\n",
    "Afterwards, rerun the analysis in the software container with the\n",
    "`datalad containers-run` command. This container works just as the run command before, I\n",
    "only need to specify the container name. If you were to rerun such an analysis,\n",
    "datalad would not only retrieve the input data but also the software container:"
   ]
  },
  {
   "cell_type": "code",
   "execution_count": null,
   "id": "9d498b95",
   "metadata": {
    "hide-output": false
   },
   "outputs": [],
   "source": [
    "!datalad containers-run -m \"rerun analysis in container\" \\\n",
    "--container-name software \\\n",
    "--input \"input/iris.csv\" \\\n",
    "--output \"prediction_report.csv\" \\\n",
    "--output \"pairwise_relationships.png\" \\\n",
    "\"python3 code/script.py\""
   ]
  },
  {
   "cell_type": "markdown",
   "id": "7eed969e",
   "metadata": {},
   "source": [
    "Read more about this in the section containersrun.\n",
    "\n",
    "**Done! Thanks for coding along!**"
   ]
  }
 ],
 "metadata": {
  "date": 1617871734.783596,
  "filename": "OHBM.rst",
  "title": "OHBM Brainhack TrainTrack: DataLad"
 },
 "nbformat": 4,
 "nbformat_minor": 5
}